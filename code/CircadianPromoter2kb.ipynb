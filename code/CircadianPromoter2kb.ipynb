{
 "cells": [
  {
   "cell_type": "markdown",
   "id": "b03e2397-5033-4784-a146-a3eabe13dfc6",
   "metadata": {},
   "source": [
    "# About this notebook\n",
    "This notebook combines the outputs from MetaCycle (circadian genes), and the 2kb sequences upstream from their promoter region across seven genotypes."
   ]
  },
  {
   "cell_type": "markdown",
   "id": "17818db9-13a9-4da4-9cd4-93cd8f0eda1f",
   "metadata": {},
   "source": [
    "# Libraries"
   ]
  },
  {
   "cell_type": "code",
   "execution_count": 53,
   "id": "1ec25804-9f01-4291-a570-44d4af80da75",
   "metadata": {},
   "outputs": [],
   "source": [
    "import pandas as pd\n",
    "import glob"
   ]
  },
  {
   "cell_type": "markdown",
   "id": "0d0be045-e8d1-4d07-9018-28e4faaa41ca",
   "metadata": {},
   "source": [
    "# Combine gff3 with promoter sequence"
   ]
  },
  {
   "cell_type": "code",
   "execution_count": 112,
   "id": "f50a9588-7173-4da7-80c7-b2cf9d317971",
   "metadata": {},
   "outputs": [
    {
     "name": "stdout",
     "output_type": "stream",
     "text": [
      "CPU times: user 6.3 s, sys: 427 ms, total: 6.72 s\n",
      "Wall time: 6.73 s\n"
     ]
    }
   ],
   "source": [
    "%%time\n",
    "\n",
    "# List gff3 and bed files\n",
    "gff3_files = glob.glob('../output/GFF3_gene_only//*.gff3', recursive=False)\n",
    "bed_files = glob.glob('../output/Regions/*.2kb.promoters.bed', recursive=False)\n",
    "\n",
    "# CReate empty dataframe\n",
    "All_regions = pd.DataFrame()\n",
    "# List the seven genotypes\n",
    "genotypes = ['L58','R500','WO_83','PCGlu','VT123','A03','O_302V']\n",
    "\n",
    "for g in genotypes:\n",
    "    \n",
    "    # Current genotype (cg)\n",
    "    cg = g\n",
    "    \n",
    "    # Match genotype with gff3 file\n",
    "    gff3_genes = next(x for x in gff3_files if cg in x)\n",
    "    df_gff3 = pd.read_csv(gff3_genes, sep=\"\\t\", header=None, comment=\"#\") # read\n",
    "    # Define colnames\n",
    "    gff3_names = [\"seqid\", \"source\", \"type\", \"start\", \"end\", \"score\", \"strand\", \"phase\", \"attributes\"]\n",
    "    df_gff3.columns = gff3_names\n",
    "    # Get gene name\n",
    "    df_gff3['gene'] = df_gff3['attributes'].apply(lambda x: x.split('Name=')[1])\n",
    "\n",
    "    # Match genotype with bed file \n",
    "    region_genes = next(x for x in bed_files if cg in x)\n",
    "    df_region = pd.read_csv(region_genes, sep=\"\\t\", header=None, comment=\"#\") # read\n",
    "    region_names = [\"attributes\", \"region2kb\"] # colnames\n",
    "    df_region.columns = region_names\n",
    "    # Get position\n",
    "    df_region['position'] = df_region['attributes'].apply(lambda x: x.split('::')[1])\n",
    "    # Get gene name\n",
    "    df_region['gene'] = df_region['attributes'].apply(lambda x: x.split('::')[0])\n",
    "    df_region['gene'] = df_region['gene'].apply(lambda x: x.split('Name=')[1])\n",
    "    df_region = df_region.drop('attributes', axis=1) # remove unnecessary column\n",
    "\n",
    "    # Merge gff3 with bed file\n",
    "    merged_df = pd.merge(df_gff3, df_region, on='gene')\n",
    "    \n",
    "    # Append to df\n",
    "    All_regions = pd.concat([All_regions,merged_df])\n",
    "    "
   ]
  },
  {
   "cell_type": "markdown",
   "id": "6c381cc8-1331-44e9-a326-efc390556056",
   "metadata": {},
   "source": [
    "# Circadian Genes"
   ]
  },
  {
   "cell_type": "code",
   "execution_count": 120,
   "id": "4b0b7308-8064-4b40-b0fe-47633581fc35",
   "metadata": {},
   "outputs": [
    {
     "name": "stdout",
     "output_type": "stream",
     "text": [
      "CPU times: user 2.32 s, sys: 406 ms, total: 2.72 s\n",
      "Wall time: 2.81 s\n"
     ]
    }
   ],
   "source": [
    "%%time\n",
    "# Read output form MetaCycle\n",
    "CircadianGenes = '../output/MetaCycle/CircadianGenes.csv'\n",
    "CircadianGenes = pd.read_csv(CircadianGenes)\n",
    "# Get gene name to match with promoter\n",
    "CircadianGenes = CircadianGenes.rename(columns={'NewCycID': 'gene'})\n",
    "# Merge files\n",
    "CircRegions_2kb = pd.merge(CircadianGenes,All_regions, on='gene')\n",
    "# Write as csv (probably not the ideal format)\n",
    "CircRegions_2kb.to_csv('../output/CircadianRegions_2kb.csv')"
   ]
  }
 ],
 "metadata": {
  "kernelspec": {
   "display_name": "Python 3 (ipykernel)",
   "language": "python",
   "name": "python3"
  },
  "language_info": {
   "codemirror_mode": {
    "name": "ipython",
    "version": 3
   },
   "file_extension": ".py",
   "mimetype": "text/x-python",
   "name": "python",
   "nbconvert_exporter": "python",
   "pygments_lexer": "ipython3",
   "version": "3.9.12"
  }
 },
 "nbformat": 4,
 "nbformat_minor": 5
}
