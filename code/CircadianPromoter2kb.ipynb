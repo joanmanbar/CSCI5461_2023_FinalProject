{
 "cells": [
  {
   "cell_type": "markdown",
   "id": "b03e2397-5033-4784-a146-a3eabe13dfc6",
   "metadata": {},
   "source": [
    "# About this notebook\n",
    "This notebook combines the outputs from MetaCycle (circadian genes), and the 2kb sequences upstream from their promoter region across seven genotypes."
   ]
  },
  {
   "cell_type": "markdown",
   "id": "17818db9-13a9-4da4-9cd4-93cd8f0eda1f",
   "metadata": {},
   "source": [
    "# Libraries"
   ]
  },
  {
   "cell_type": "code",
   "execution_count": null,
   "id": "1ec25804-9f01-4291-a570-44d4af80da75",
   "metadata": {},
   "outputs": [],
   "source": [
    "import pandas as pd\n",
    "import glob"
   ]
  },
  {
   "cell_type": "markdown",
   "id": "0d0be045-e8d1-4d07-9018-28e4faaa41ca",
   "metadata": {},
   "source": [
    "# Combine gff3 with promoter sequence"
   ]
  },
  {
   "cell_type": "code",
   "execution_count": null,
   "id": "f50a9588-7173-4da7-80c7-b2cf9d317971",
   "metadata": {},
   "outputs": [],
   "source": [
    "%%time\n",
    "\n",
    "# List gff3 and bed files\n",
    "gff3_files = glob.glob('../output/GFF3_gene_only//*.gff3', recursive=False)\n",
    "bed_files = glob.glob('../output/Regions/*.2kb.promoters.bed', recursive=False)\n",
    "\n",
    "# CReate empty dataframe\n",
    "All_regions = pd.DataFrame()\n",
    "# List the seven genotypes\n",
    "genotypes = ['L58','R500','WO_83','PCGlu','VT123','A03','O_302V']\n",
    "\n",
    "for g in genotypes:\n",
    "    \n",
    "    # Current genotype (cg)\n",
    "    cg = g\n",
    "    \n",
    "    # Match genotype with gff3 file\n",
    "    gff3_genes = next(x for x in gff3_files if cg in x)\n",
    "    df_gff3 = pd.read_csv(gff3_genes, sep=\"\\t\", header=None, comment=\"#\") # read\n",
    "    # Define colnames\n",
    "    gff3_names = [\"seqid\", \"source\", \"type\", \"start\", \"end\", \"score\", \"strand\", \"phase\", \"attributes\"]\n",
    "    df_gff3.columns = gff3_names\n",
    "    # Get gene name\n",
    "    df_gff3['gene'] = df_gff3['attributes'].apply(lambda x: x.split('Name=')[1])\n",
    "\n",
    "    # Match genotype with bed file \n",
    "    region_genes = next(x for x in bed_files if cg in x)\n",
    "    df_region = pd.read_csv(region_genes, sep=\"\\t\", header=None, comment=\"#\") # read\n",
    "    region_names = [\"attributes\", \"region2kb\"] # colnames\n",
    "    df_region.columns = region_names\n",
    "    # Get position\n",
    "    df_region['position'] = df_region['attributes'].apply(lambda x: x.split('::')[1])\n",
    "    # Get gene name\n",
    "    df_region['gene'] = df_region['attributes'].apply(lambda x: x.split('::')[0])\n",
    "    df_region['gene'] = df_region['gene'].apply(lambda x: x.split('Name=')[1])\n",
    "    df_region = df_region.drop('attributes', axis=1) # remove unnecessary column\n",
    "\n",
    "    # Merge gff3 with bed file\n",
    "    merged_df = pd.merge(df_gff3, df_region, on='gene')\n",
    "    \n",
    "    # Append to df\n",
    "    All_regions = pd.concat([All_regions,merged_df])\n",
    "    "
   ]
  },
  {
   "cell_type": "markdown",
   "id": "6c381cc8-1331-44e9-a326-efc390556056",
   "metadata": {},
   "source": [
    "# Circadian Genes"
   ]
  },
  {
   "cell_type": "code",
   "execution_count": null,
   "id": "4b0b7308-8064-4b40-b0fe-47633581fc35",
   "metadata": {},
   "outputs": [],
   "source": [
    "%%time\n",
    "# Read output form MetaCycle\n",
    "CircadianGenes = '../output/MetaCycle/CircadianGenes.csv'\n",
    "CircadianGenes = pd.read_csv(CircadianGenes)\n",
    "# Get gene name to match with promoter\n",
    "CircadianGenes = CircadianGenes.rename(columns={'NewCycID': 'gene'})\n",
    "# Merge files\n",
    "CircRegions_2kb = pd.merge(CircadianGenes,All_regions, on='gene')\n",
    "# Write as csv (probably not the ideal format)\n",
    "CircRegions_2kb.to_csv('../output/CircadianRegions_2kb.csv')"
   ]
  },
  {
   "cell_type": "code",
   "execution_count": null,
   "id": "ae861eaf-cb2c-4229-9950-6109563886d2",
   "metadata": {},
   "outputs": [],
   "source": []
  },
  {
   "cell_type": "code",
   "execution_count": null,
   "id": "1d0f34cb-347f-45c3-b325-aa4a98d530dc",
   "metadata": {},
   "outputs": [],
   "source": []
  },
  {
   "cell_type": "markdown",
   "id": "4fa44aa0-bb96-4b8e-9151-dfb38393ea70",
   "metadata": {},
   "source": [
    "# Machine learning"
   ]
  },
  {
   "cell_type": "markdown",
   "id": "f9ccd9a8-3683-40fd-a52b-5abae89f10e5",
   "metadata": {},
   "source": [
    "**Libraries and settings**"
   ]
  },
  {
   "cell_type": "code",
   "execution_count": 1,
   "id": "1c607a47-f479-4057-86bc-390c22606c47",
   "metadata": {},
   "outputs": [
    {
     "name": "stderr",
     "output_type": "stream",
     "text": [
      "/Users/joanbarreto/opt/anaconda3/lib/python3.9/site-packages/scipy/__init__.py:146: UserWarning: A NumPy version >=1.16.5 and <1.23.0 is required for this version of SciPy (detected version 1.24.2\n",
      "  warnings.warn(f\"A NumPy version >={np_minversion} and <{np_maxversion}\"\n"
     ]
    }
   ],
   "source": [
    "import pandas as pd\n",
    "import numpy as np\n",
    "import matplotlib.pyplot as plt \n",
    "import matplotlib as mpl\n",
    "import time\n",
    "import pytz\n",
    "from datetime import datetime\n",
    "\n",
    "from sklearn.preprocessing import MultiLabelBinarizer\n",
    "from sklearn.model_selection import train_test_split\n",
    "from sklearn.neighbors import KNeighborsRegressor\n",
    "from sklearn.ensemble import GradientBoostingRegressor\n",
    "from sklearn.svm import SVR\n",
    "from sklearn.ensemble import RandomForestRegressor\n",
    "from sklearn.metrics import mean_squared_error\n",
    "\n",
    "from sklearn.metrics.pairwise import cosine_similarity\n",
    "from sklearn.decomposition import PCA\n",
    "from sklearn.preprocessing import StandardScaler\n",
    "\n",
    "mpl.rcParams['figure.dpi']= 100\n",
    "plt.rcParams[\"axes.grid\"] = False\n",
    "from IPython.core.interactiveshell import InteractiveShell \n",
    "InteractiveShell.ast_node_interactivity = \"all\""
   ]
  },
  {
   "cell_type": "code",
   "execution_count": 2,
   "id": "d1977ff1-fe89-40aa-a230-83844d0a4b5d",
   "metadata": {},
   "outputs": [],
   "source": [
    "# Read the regions\n",
    "CircadianRegions = '../output/CircadianRegions_2kb.csv'\n",
    "CircadianRegions = pd.read_csv(CircadianRegions)\n",
    "\n",
    "# Sample (for testing)\n",
    "CircadianRegions = CircadianRegions.sample(frac=0.5, replace=False, random_state=1)\n",
    "\n",
    "\n",
    "data_df = CircadianRegions[['gene','JTK_adjphase','region2kb']] # keep relevant cols\n",
    "data_df = data_df.sort_values('gene')"
   ]
  },
  {
   "cell_type": "code",
   "execution_count": 3,
   "id": "5e2e7057-2d0e-4696-a155-b0aceadd4bed",
   "metadata": {},
   "outputs": [
    {
     "name": "stdout",
     "output_type": "stream",
     "text": [
      "CPU times: user 2.28 s, sys: 166 ms, total: 2.45 s\n",
      "Wall time: 2.44 s\n"
     ]
    }
   ],
   "source": [
    "%%time\n",
    "# ~5 sec on Joan's Mac\n",
    "\n",
    "# Use an 8bp window and 3bp overlap\n",
    "window_size = 8\n",
    "overlap = 3\n",
    "non_overlap = window_size-overlap\n",
    "regions = data_df['region2kb'] \n",
    "# Slide window and get features\n",
    "Features = regions.apply(lambda x: [x[i:i+window_size] for i in range(0, len(x)-7, non_overlap)])\n",
    "Features.name = \"features\" # Rename\n",
    "# Get unique features\n",
    "unique_features = [item for sublist in Features for item in sublist]\n",
    "unique_features = set(unique_features)\n",
    "\n",
    "# CReate features df \n",
    "features_df = pd.concat([data_df['gene'], Features], axis=1)"
   ]
  },
  {
   "cell_type": "code",
   "execution_count": 4,
   "id": "5382c5a3-6b46-4403-adee-e4af8c76684c",
   "metadata": {},
   "outputs": [
    {
     "name": "stdout",
     "output_type": "stream",
     "text": [
      "CPU times: user 24.6 s, sys: 17.4 s, total: 42 s\n",
      "Wall time: 51.3 s\n"
     ]
    }
   ],
   "source": [
    "%%time\n",
    "# ~38.5 sec on Joan's Mac\n",
    "\n",
    "# Set MultiLabelBinarizer\n",
    "mlb = MultiLabelBinarizer()\n",
    "\n",
    "# Fit the binarizer to the \"features\" column and transform it\n",
    "one_hot = mlb.fit_transform(features_df[\"features\"])\n",
    "\n",
    "# Create a new df with the one-hot encoding and the gene column\n",
    "one_hot_df = pd.DataFrame(one_hot, columns=mlb.classes_)\n",
    "one_hot_df[\"gene\"] = features_df[\"gene\"].values\n",
    "\n",
    "# Bring \"gene\" col to front\n",
    "one_hot_df = one_hot_df[[\"gene\"] + list(mlb.classes_)]\n",
    "one_hot_df = one_hot_df.set_index('gene') # Set gene as index\n",
    "feature_names = np.array(one_hot_df.columns) # get feature names"
   ]
  },
  {
   "cell_type": "code",
   "execution_count": null,
   "id": "db72c53c-b460-4e23-8e4f-3f7175513acb",
   "metadata": {},
   "outputs": [],
   "source": [
    "# Copy data\n",
    "df = one_hot_df\n",
    "# Remove features containin \"N\" (only 6)\n",
    "df = df.loc[:, ~df.columns.str.contains('N')]\n"
   ]
  },
  {
   "cell_type": "code",
   "execution_count": null,
   "id": "45d953b4-bb6e-4386-b9cf-4d1342b62a1f",
   "metadata": {},
   "outputs": [],
   "source": []
  },
  {
   "cell_type": "markdown",
   "id": "8708890a-4941-4a86-8f8d-15ba918ea801",
   "metadata": {},
   "source": [
    "Here are two ideas:\n",
    "\n",
    "(1) density-based filtering:\n",
    "I’d suggest doing an initial filtering on your 66k features that is based on the feature sparsity. I would plot the distribution of feature density for all 66k and cut anything in bottom ~25% in terms of density (number of 1s across samples) and maybe those in the top ~25% in terms of density. If you want to filter more, just adjust those cutoffs on the tails according to your intuition. (How dense do you think the informative features are likely to be?)"
   ]
  },
  {
   "cell_type": "markdown",
   "id": "6dd80372-b061-44b2-97e1-887fe238dbb2",
   "metadata": {},
   "source": [
    "## Density-based filtering"
   ]
  },
  {
   "cell_type": "code",
   "execution_count": 74,
   "id": "0b96f0a7-370d-47aa-992f-2c9f59f0abeb",
   "metadata": {},
   "outputs": [
    {
     "data": {
      "image/png": "[encoded data removed]",
      "text/plain": [
       "<Figure size 600x400 with 1 Axes>"
      ]
     },
     "metadata": {
      "needs_background": "light"
     },
     "output_type": "display_data"
    }
   ],
   "source": [
    "df = one_hot_df\n",
    "\n",
    "# Get densities\n",
    "feature_densities = df.sum() / df.shape[0]\n",
    "feature_densities = feature_densities.sort_values(ascending=False)\n",
    "\n",
    "# Create a histogram of the feature density values\n",
    "plt.hist(feature_densities, bins=300)\n",
    "plt.xlabel(\"Feature Density\")\n",
    "plt.ylabel(\"Frequency\")\n",
    "plt.title(\"Distribution of Feature Density\")\n",
    "plt.show();"
   ]
  },
  {
   "cell_type": "code",
   "execution_count": 84,
   "id": "4c327d9b-7013-4b3b-9bd7-4131d89a6e11",
   "metadata": {},
   "outputs": [],
   "source": [
    "# Filter out bottom 25% and top 25% (or more)\n",
    "\n",
    "# Calculate the nth percentile values\n",
    "bottom_25 = np.percentile(feature_densities, 25)\n",
    "top_25 = np.percentile(feature_densities, 75)\n",
    "\n",
    "filtered_series = feature_densities[\n",
    "    (feature_densities > bottom_25) & (feature_densities < top_25)]\n",
    "\n",
    "filtered_features = filtered_series.index.to_list()\n",
    "filtered_features = df[filtered_features]\n",
    "\n"
   ]
  },
  {
   "cell_type": "code",
   "execution_count": null,
   "id": "6066c0aa-975d-43af-93a0-8b419f66b13a",
   "metadata": {},
   "outputs": [],
   "source": []
  },
  {
   "cell_type": "markdown",
   "id": "bfe320ff-20d4-477f-a013-75ea923df6dd",
   "metadata": {},
   "source": [
    "After filtering by density, I’d apply something like this\n",
    "\n",
    "(2) redundancy-based filtering:\n",
    "\n",
    "Sort the features in some reasonable way (eg highest to lowest density)\n",
    "Perform this iteration:\n",
    "\n",
    "Select the top remaining feature.\n",
    "\n",
    "Compare to each of the already selected features in terms of cosine similarity\n",
    "\n",
    "If the highest cos similarity is lower than X, accept that feature. If not, reject it\n",
    "\n",
    "\n",
    "Note that I would not use the class labels for that feature selection— that will just complicate your pipeline at this point as you’ll need to avoid training/test set leaks.\n",
    "\n",
    "With the combination of those two filters, I would target ~5-10k features total.\n",
    "\n",
    "It would also be fine to just run PCA on those features— PCA is used a lot on genotype data, which is similarly qualitative (non-continuous) to your features. But getting PCA to run in 66k features won’t be easy either— it’s probably easiest to use the simpler approaches above."
   ]
  },
  {
   "cell_type": "code",
   "execution_count": null,
   "id": "7955717c-1489-4d4c-8cd9-11d23439f688",
   "metadata": {},
   "outputs": [],
   "source": []
  },
  {
   "cell_type": "code",
   "execution_count": null,
   "id": "5710ad00-7336-433e-bce7-7d78405f00ff",
   "metadata": {},
   "outputs": [],
   "source": [
    "%%time\n",
    "\n",
    "# Copy df\n",
    "df = filtered_features.iloc[:,:1000]\n",
    "\n",
    "# Initialize a list to store the selected feature indices\n",
    "selected_features = [df.columns[0]]\n",
    "\n",
    "# Loop until all features have been selected or rejected\n",
    "while len(selected_features) < df.shape[1]:\n",
    "\n",
    "    # Get last selected feature (Feature_X)\n",
    "    Feature_X = df[selected_features[-1]].astype(bool).to_numpy().reshape(1, -1) #bool\n",
    "    Feature_X = Feature_X.astype(int) # Needs to be a binary array\n",
    "    \n",
    "    # Select the top remaining feature that hasn't been selected yet (Feature_Y)\n",
    "    remaining_features = df.drop(selected_features, axis=1, errors='ignore')\n",
    "    top_remaining = filtered_series[remaining_features.columns].idxmax()\n",
    "    Feature_Y = df[top_remaining].astype(bool).to_numpy().reshape(1, -1)\n",
    "    Feature_Y = Feature_Y.astype(int)\n",
    "    # Compute cosine similarity\n",
    "    cos_similarity = cosine_similarity(Feature_X, Feature_Y)\n",
    "    cos_similarity = cos_similarity[0][0]\n",
    "    \n",
    "    # Accept feature is absolute value is greater than 75%\n",
    "    if abs(cos_similarity) > 0.75:\n",
    "        selected_features.append(top_remaining)\n",
    "    # Drop next top col\n",
    "    df = df.drop(top_remaining, axis=1)\n",
    "    \n",
    "# Filtered dataset\n",
    "filtered_df = one_hot_df.loc[:, selected_features]\n",
    "\n"
   ]
  },
  {
   "cell_type": "code",
   "execution_count": 109,
   "id": "40862c8b-760b-4545-bd9f-cc24a756c5f9",
   "metadata": {},
   "outputs": [
    {
     "name": "stdout",
     "output_type": "stream",
     "text": [
      "CPU times: user 3min 6s, sys: 4min 4s, total: 7min 10s\n",
      "Wall time: 2min 37s\n"
     ]
    }
   ],
   "source": [
    "%%time\n",
    "\n",
    "df = filtered_features\n",
    "\n",
    "# standardize the data\n",
    "scaler = StandardScaler()\n",
    "X_std = scaler.fit_transform(df)\n",
    "\n",
    "# perform PCA with n components\n",
    "n_comp = 30\n",
    "pc_names = ['PC{:02d}'.format(i) for i in range(1, n_comp+1)]\n",
    "\n",
    "pca = PCA(n_components=n_comp)\n",
    "pca.fit(X_std)\n",
    "\n",
    "# transform the data to the new PCA space\n",
    "X_pca = pca.transform(X_std)\n",
    "\n",
    "# create a new dataframe with the PCA components\n",
    "df_pca = pd.DataFrame(X_pca, columns=pc_names)\n",
    "\n",
    "# add the original feature names as column names\n",
    "df_pca.columns = pc_names\n",
    "df_pca.index = df.index"
   ]
  },
  {
   "cell_type": "code",
   "execution_count": 110,
   "id": "807f35a5-68cc-4a82-9b98-fda05d82997b",
   "metadata": {},
   "outputs": [
    {
     "name": "stdout",
     "output_type": "stream",
     "text": [
      "CPU times: user 316 ms, sys: 79.9 ms, total: 396 ms\n",
      "Wall time: 282 ms\n"
     ]
    }
   ],
   "source": [
    "%%time\n",
    "\n",
    "# get the loadings of each feature on each principal component\n",
    "loadings = pca.components_\n",
    "\n",
    "# convert the loadings to a pandas dataframe\n",
    "df_loadings = pd.DataFrame(loadings.T, columns=pc_names, index=df.columns)\n",
    "\n",
    "# sort the rows (i.e., features) of the dataframe by their absolute loading value in descending order\n",
    "df_loadings = df_loadings.apply(lambda x: x.abs().sort_values(ascending=False), axis=0)\n"
   ]
  },
  {
   "cell_type": "code",
   "execution_count": 111,
   "id": "c7fa2b23-a329-4348-b599-1146e11992e4",
   "metadata": {},
   "outputs": [
    {
     "name": "stdout",
     "output_type": "stream",
     "text": [
      "CPU times: user 133 ms, sys: 12.3 ms, total: 145 ms\n",
      "Wall time: 144 ms\n"
     ]
    }
   ],
   "source": [
    "%%time\n",
    "\n",
    "selected_features=[]\n",
    "\n",
    "for pc in pc_names:\n",
    "    pc_column = pc # current PC\n",
    "    pc_sorted = df_loadings[pc_column].sort_values(ascending=False) # sort loadings\n",
    "    half_features = int(0.10 * len(pc_sorted.index)) # Select 10% of the features\n",
    "    features_PC = list(pc_sorted[:half_features].index)\n",
    "    selected_features.extend(features_PC)\n",
    "    # len(selected_features)"
   ]
  },
  {
   "cell_type": "code",
   "execution_count": null,
   "id": "63d18b46-2ec6-42f6-b3c1-3aa572c6d585",
   "metadata": {},
   "outputs": [],
   "source": [
    "unique_features = np.unique(selected_features)\n",
    "n_unique_features = len(unique_features) # get number of features\n",
    "# Filtered dataset\n",
    "filtered_df = one_hot_df.loc[:, unique_features]\n",
    "# Export\n",
    "filename = '../output/FilteredFeatures_PCA_n' + str(n_unique_features) + '.csv'\n",
    "filtered_df.to_csv(filename)"
   ]
  },
  {
   "cell_type": "code",
   "execution_count": 115,
   "id": "b4ff54b2-0228-4c16-9d5c-8b30583eb9e1",
   "metadata": {},
   "outputs": [
    {
     "name": "stdout",
     "output_type": "stream",
     "text": [
      "[0.00049326 0.00031647 0.00026379 0.00025696 0.00025569 0.00024089\n",
      " 0.00022411 0.00022174 0.00021981 0.0002093  0.0002042  0.00020262\n",
      " 0.0001986  0.00019396 0.00019273 0.0001919  0.0001876  0.00018627\n",
      " 0.00018476 0.00018252 0.00018065 0.00017991 0.00017697 0.00017602\n",
      " 0.00017421 0.00017153 0.00017007 0.00016952 0.00016935 0.00016844]\n"
     ]
    }
   ],
   "source": [
    "# print the explained variance ratios for each principal component\n",
    "print(pca.explained_variance_ratio_)"
   ]
  },
  {
   "cell_type": "code",
   "execution_count": 116,
   "id": "87b87810-8685-418e-ad3d-549540eafce8",
   "metadata": {},
   "outputs": [],
   "source": [
    "# Filtered dataset\n",
    "filtered_df = one_hot_df.loc[:, unique_features]\n"
   ]
  },
  {
   "cell_type": "code",
   "execution_count": 483,
   "id": "cb6af0a1-8060-48e2-bbeb-c430665b3669",
   "metadata": {},
   "outputs": [
    {
     "data": {
      "text/plain": [
       "<matplotlib.image.AxesImage at 0x7fc836db5b20>"
      ]
     },
     "execution_count": 483,
     "metadata": {},
     "output_type": "execute_result"
    },
    {
     "data": {
      "image/png": "[encoded data removed]",
      "text/plain": [
       "<Figure size 600x400 with 1 Axes>"
      ]
     },
     "metadata": {
      "needs_background": "light"
     },
     "output_type": "display_data"
    }
   ],
   "source": [
    "df_img = np.array(filtered_df)\n",
    "plt.imshow(df_img)"
   ]
  },
  {
   "cell_type": "code",
   "execution_count": 458,
   "id": "a63335be-9d0d-4095-8ed7-03bcc5759507",
   "metadata": {},
   "outputs": [
    {
     "data": {
      "text/plain": [
       "'TTTGGGGC'"
      ]
     },
     "execution_count": 458,
     "metadata": {},
     "output_type": "execute_result"
    }
   ],
   "source": [
    "max(filtered_df)"
   ]
  },
  {
   "cell_type": "code",
   "execution_count": 117,
   "id": "3c8a9836-f809-4989-aa47-fd25f8baf9a6",
   "metadata": {},
   "outputs": [
    {
     "data": {
      "text/plain": [
       "<matplotlib.image.AxesImage at 0x7fae790ebb20>"
      ]
     },
     "execution_count": 117,
     "metadata": {},
     "output_type": "execute_result"
    },
    {
     "data": {
      "image/png": "[encoded data removed]",
      "text/plain": [
       "<Figure size 600x400 with 1 Axes>"
      ]
     },
     "metadata": {
      "needs_background": "light"
     },
     "output_type": "display_data"
    }
   ],
   "source": [
    "# plt.imshow(filtered_df, cmap='gray', interpolation='nearest')\n",
    "# plt.imshow(filtered_features, cmap='gray', interpolation='nearest')\n",
    "plt.imshow(filtered_df, cmap='gray', interpolation='nearest')\n"
   ]
  },
  {
   "cell_type": "code",
   "execution_count": null,
   "id": "7740f82d-ea4a-486a-9da9-56ed4c3e4aa0",
   "metadata": {},
   "outputs": [],
   "source": []
  },
  {
   "cell_type": "code",
   "execution_count": null,
   "id": "a6051fc9-b20f-46f6-a869-5c7a93d278be",
   "metadata": {},
   "outputs": [],
   "source": []
  },
  {
   "cell_type": "code",
   "execution_count": null,
   "id": "267a6689-ef96-47df-a5c5-acba61be3cdc",
   "metadata": {},
   "outputs": [],
   "source": [
    "%%time\n",
    "\n",
    "# Data for models\n",
    "X_features = one_hot_df\n",
    "Y_target = data_df[\"JTK_adjphase\"]\n",
    "\n",
    "# Split the dataset into training and test sets\n",
    "X_train, X_test, y_train, y_test = train_test_split(\n",
    "    X_features, Y_target, test_size=0.2, random_state=5461)"
   ]
  },
  {
   "cell_type": "code",
   "execution_count": null,
   "id": "6bb75639-ee84-4f4e-9ab7-02f69be27f2b",
   "metadata": {},
   "outputs": [],
   "source": [
    "model_name = 'LR'\n",
    "\n",
    "# Create an instance of the model\n",
    "model = LinearRegression()\n",
    "\n",
    "# Train the algorithm on the training set\n",
    "model.fit(X_train, y_train)\n",
    "\n",
    "# Use the trained algorithm to predict the target variable of the test set\n",
    "y_pred = model.predict(X_test)\n",
    "\n",
    "# Evaluate the performance using Pearson and mean squared error\n",
    "mse = mean_squared_error(y_test, y_pred)\n",
    "PCC = round(np.corrcoef(y_test, y_pred)[0,1],2)\n",
    "performance_df = pd.DataFrame({'Model':model_name,'PCC':PCC,'MSE':mse},index=[0])\n",
    "\n",
    "# Get coefficients (importance)\n",
    "coefficients = lr.coef_\n",
    "# Create feature importance df for model\n",
    "colname =  model_name + '_Importance'\n",
    "FI_df = pd.DataFrame({'Feature': feature_names, colname: coefficients})\n",
    "FI_df = FI_df.sort_values(by=[colname], ascending=False)\n"
   ]
  },
  {
   "cell_type": "code",
   "execution_count": null,
   "id": "a28a0d31-8f34-4817-8981-714314efc44d",
   "metadata": {},
   "outputs": [],
   "source": [
    "Models_List = [LinearRegression(), \n",
    "               SVR(kernel='rbf', C=1000, gamma=0.1)]\n",
    "# Models_List[0]"
   ]
  },
  {
   "cell_type": "code",
   "execution_count": null,
   "id": "4ffd1042-7d40-4534-80bf-af3448362002",
   "metadata": {},
   "outputs": [],
   "source": [
    "from sklearn.svm import SVR\n",
    "svr = SVR(kernel='rbf', C=1000, gamma=0.1)\n",
    "svr.fit(X_train, y_train)\n",
    "y_pred = svr.predict(X_test)"
   ]
  },
  {
   "cell_type": "code",
   "execution_count": null,
   "id": "8f94583c-71a8-4cd0-91ae-e37e265833dd",
   "metadata": {},
   "outputs": [],
   "source": [
    "mse = mean_squared_error(y_test, y_pred)\n",
    "PCC = round(np.corrcoef(y_test, y_pred)[0,1],2)\n",
    "performance_df = pd.DataFrame({'Model':model_name,'PCC':PCC,'MSE':mse,'ExecTime':execution_time},index=[0])"
   ]
  },
  {
   "cell_type": "code",
   "execution_count": null,
   "id": "169aeefe-d7cc-4d9d-a375-c6da1e22f3e1",
   "metadata": {},
   "outputs": [],
   "source": []
  },
  {
   "cell_type": "code",
   "execution_count": null,
   "id": "ac33d80b-d47a-429e-8fb5-0ae93b37cc2b",
   "metadata": {},
   "outputs": [],
   "source": [
    "knn = KNeighborsRegressor(n_neighbors=5)\n",
    "svr = SVR(kernel='rbf', C=1e3, gamma=0.1)\n",
    "rfr = RandomForestRegressor(n_estimators=100, random_state=0)\n",
    "gbr = GradientBoostingRegressor(n_estimators=100, learning_rate=0.1, max_depth=1, random_state=0, loss='ls')\n",
    "\n",
    "Models = {'rfr':rfr,'svr':svr,'gbr':gbr,'knn':knn}\n",
    "\n",
    "next(iter(Models)) # outputs 'foo'\n"
   ]
  },
  {
   "cell_type": "code",
   "execution_count": null,
   "id": "15b0b3e2-5f54-4e2c-8674-50924add39aa",
   "metadata": {},
   "outputs": [],
   "source": []
  },
  {
   "cell_type": "code",
   "execution_count": null,
   "id": "3d4be98b-d764-43b4-81ce-b8079b28bbe4",
   "metadata": {},
   "outputs": [],
   "source": [
    "# One hot encoding -----------\n",
    "\n",
    "# Create features df\n",
    "features_df = pd.concat([data_df['gene'], Features], axis=1)\n",
    "# Set and fit MultiLabelBinarizer\n",
    "mlb = MultiLabelBinarizer()\n",
    "one_hot = mlb.fit_transform(features_df[\"features\"]) # fit\n",
    "# Create a new df with the one-hot encoding and the gene column\n",
    "one_hot_df = pd.DataFrame(one_hot, columns=mlb.classes_)\n",
    "one_hot_df[\"gene\"] = features_df[\"gene\"].values\n",
    "one_hot_df = one_hot_df[[\"gene\"] + list(mlb.classes_)] # \"gene\" col to front\n",
    "one_hot_df = one_hot_df.set_index('gene') # Set gene as index\n",
    "feature_names = np.array(one_hot_df.columns) # get feature names\n",
    "\n",
    "\n",
    "\n",
    "# Split data for training -----------\n",
    "\n",
    "# Data for models\n",
    "X_features = one_hot_df\n",
    "Y_target = data_df[\"JTK_adjphase\"]\n",
    "# Split the dataset into training and test sets\n",
    "X_train, X_test, y_train, y_test = train_test_split(\n",
    "    X_features, Y_target, test_size=0.2, random_state=5461)"
   ]
  },
  {
   "cell_type": "code",
   "execution_count": null,
   "id": "586747f5-9a0f-4298-a858-c453df62a187",
   "metadata": {},
   "outputs": [],
   "source": [
    "# Select and train models -----------\n",
    "\n",
    "# Create empty dfs to output\n",
    "ModelsPerformance = pd.DataFrame()\n",
    "FeatureImportance = pd.DataFrame()\n",
    "\n",
    "# Create models\n",
    "knn = KNeighborsRegressor(n_neighbors=5)\n",
    "svr = SVR(kernel='rbf', C=1e3, gamma=0.1)\n",
    "rfr = RandomForestRegressor(n_estimators=100, random_state=0)\n",
    "gbr = GradientBoostingRegressor(n_estimators=100, learning_rate=0.1, max_depth=1, random_state=0, loss='ls')\n",
    "# Store them in dictionary\n",
    "Models = {'rfr':rfr,\n",
    "          'svr':svr,\n",
    "          'gbr':gbr,\n",
    "          'knn':knn}\n",
    "\n",
    "# Select model\n",
    "model_name = next(iter(Models)) # Name\n",
    "model = next(iter(Models.values())) # Model\n",
    "\n",
    "# Train the algorithm on the training set\n",
    "start_time = time.time() # ***** Start timer *****\n",
    "model.fit(X_train, y_train)\n",
    "\n",
    "# Use the trained algorithm to predict the target variable of the test set\n",
    "y_pred = model.predict(X_test)\n",
    "\n",
    "# Feature importance\n",
    "if model_name == 'rfr' | model_name == 'gbr':\n",
    "    feature_importance = model.feature_importances_\n",
    "    # Create feature importance df for model\n",
    "    colname =  model_name + '_Importance'\n",
    "    FI_df = pd.DataFrame({'Feature': feature_names, colname: coefficients})\n",
    "    FI_df = FI_df.sort_values(by=[colname], ascending=False)\n",
    "    # Append to greater df\n",
    "    FeatureImportance = pd.concat([FeatureImportance,FI_df], axis=0) \n",
    "\n",
    "\n",
    "end_time = time.time() # ***** End timer *****\n",
    "# Time to run\n",
    "execution_time = round(end_time - start_time, 4)\n",
    "print('Finished model ',model_name)\n",
    "\n",
    "                  \n",
    "# Performance -----------\n",
    "                  \n",
    "# Get performance metrics into a df\n",
    "mse = mean_squared_error(y_test, y_pred)\n",
    "PCC = round(np.corrcoef(y_test, y_pred)[0,1],2)\n",
    "performance_df = pd.DataFrame({'Model':model_name,\n",
    "                               'PCC':PCC,\n",
    "                               'MSE':mse,\n",
    "                               'ExecTime':execution_time},index=[0])\n",
    "# Append to performance df\n",
    "ModelsPerformance = pd.concat([ModelsPerformance,performance_df], axis=0)\n"
   ]
  },
  {
   "cell_type": "code",
   "execution_count": null,
   "id": "35fb28c9-b9d1-41a6-9199-0899f4a7de68",
   "metadata": {},
   "outputs": [],
   "source": []
  },
  {
   "cell_type": "code",
   "execution_count": null,
   "id": "77397d7b-168d-4406-8056-5c9a4026183a",
   "metadata": {},
   "outputs": [],
   "source": []
  },
  {
   "cell_type": "code",
   "execution_count": 1,
   "id": "0864b44f-12e7-438e-b4d9-3c6ce6eead8a",
   "metadata": {},
   "outputs": [
    {
     "data": {
      "text/plain": [
       "'20230429_1837'"
      ]
     },
     "execution_count": 1,
     "metadata": {},
     "output_type": "execute_result"
    }
   ],
   "source": [
    "import datetime\n",
    "import pytz\n",
    "\n",
    "# Set the timezone (tz) to Central Daylight Time\n",
    "tz = pytz.timezone('US/Central')\n",
    "# Get the current time \n",
    "now = datetime.datetime.now(tz).strftime('%Y%m%d_%H%M')\n",
    "now\n",
    "# # Format the datetime string\n",
    "# date_str = now.strftime('%Y%m%d_%H%M')\n",
    "\n",
    "# # Print the formatted string\n",
    "# print(date_str)"
   ]
  },
  {
   "cell_type": "code",
   "execution_count": null,
   "id": "ebd70a8a-2936-4c83-8871-cdb328699e62",
   "metadata": {},
   "outputs": [],
   "source": []
  },
  {
   "cell_type": "code",
   "execution_count": null,
   "id": "d032f50e-f9e2-40c0-b25a-8a2f9768d722",
   "metadata": {},
   "outputs": [],
   "source": []
  },
  {
   "cell_type": "code",
   "execution_count": null,
   "id": "18d6f643-d7b8-468f-9532-c092bc63568a",
   "metadata": {},
   "outputs": [],
   "source": []
  },
  {
   "cell_type": "code",
   "execution_count": null,
   "id": "48e5aa9e-dd3b-4fed-84e1-f73ae2a9e5cb",
   "metadata": {},
   "outputs": [],
   "source": []
  },
  {
   "cell_type": "code",
   "execution_count": null,
   "id": "ead04f03-886f-4c5c-8642-4de82e99cd7a",
   "metadata": {},
   "outputs": [],
   "source": []
  },
  {
   "cell_type": "code",
   "execution_count": null,
   "id": "820c39dd-2a0d-4a9a-b0c3-a0f190f6e1a8",
   "metadata": {},
   "outputs": [],
   "source": []
  },
  {
   "cell_type": "code",
   "execution_count": null,
   "id": "ecb84fb5-d61c-4490-83a3-52c9b553cd7c",
   "metadata": {},
   "outputs": [],
   "source": []
  },
  {
   "cell_type": "markdown",
   "id": "6c0d87fb-c313-428a-97f4-fd17ce032e19",
   "metadata": {},
   "source": [
    "## Neural Network "
   ]
  },
  {
   "cell_type": "code",
   "execution_count": null,
   "id": "49b449e4-6e62-4e97-9061-aae71fc814b1",
   "metadata": {},
   "outputs": [],
   "source": [
    "%%time\n",
    "\n",
    "nn_model = MLPRegressor(hidden_layer_sizes=(100, 100))\n",
    "nn_model.fit(X_train, y_train)\n",
    "\n",
    "# Use the trained algorithm to predict the target variable of the test set\n",
    "y_pred = nn_model.predict(X_test)\n",
    "\n",
    "# Evaluate the performance of the model using mean squared error\n",
    "mse = mean_squared_error(y_test, y_pred)\n",
    "PCC = round(np.corrcoef(y_test, y_pred)[0,1],2)\n",
    "print(\"Mean squared error: \", mse)\n",
    "print(\"\\nPCC: \", PCC)"
   ]
  },
  {
   "cell_type": "markdown",
   "id": "eff3978d-ec72-4c47-bad8-19a6eec5d7a7",
   "metadata": {},
   "source": [
    "## Decision Tree Regressor"
   ]
  },
  {
   "cell_type": "code",
   "execution_count": null,
   "id": "849f72bd-13fb-419c-883a-8a522de0ed24",
   "metadata": {},
   "outputs": [],
   "source": [
    "dt_model = DecisionTreeRegressor()\n",
    "dt_model.fit(X_train, y_train)\n",
    "\n",
    "# Use the trained algorithm to predict the target variable of the test set\n",
    "y_pred = dt_model.predict(X_test)\n",
    "\n",
    "# Evaluate the performance of the model using mean squared error\n",
    "mse = mean_squared_error(y_test, y_pred)\n",
    "PCC = round(np.corrcoef(y_test, y_pred)[0,1],2)\n",
    "print(\"Mean squared error: \", mse)\n",
    "print(\"\\nPCC: \", PCC)"
   ]
  },
  {
   "cell_type": "markdown",
   "id": "cc94d4ab-9e50-4002-99aa-e522a935293e",
   "metadata": {},
   "source": [
    "## Random Forest"
   ]
  },
  {
   "cell_type": "code",
   "execution_count": null,
   "id": "c27945f4-eb68-4027-8378-0a46212487fe",
   "metadata": {},
   "outputs": [],
   "source": [
    "rf_model = RandomForestRegressor()\n",
    "rf_model.fit(X_train, y_train)\n",
    "\n",
    "# Use the trained algorithm to predict the target variable of the test set\n",
    "y_pred = rf_model.predict(X_test)\n",
    "\n",
    "# Evaluate the performance of the model using mean squared error\n",
    "mse = mean_squared_error(y_test, y_pred)\n",
    "PCC = round(np.corrcoef(y_test, y_pred)[0,1],2)\n",
    "print(\"Mean squared error: \", mse)\n",
    "print(\"\\nPCC: \", PCC)"
   ]
  },
  {
   "cell_type": "markdown",
   "id": "ba8bf713-c0f0-4cf3-a271-bd5ca7ff8af5",
   "metadata": {},
   "source": [
    "## Support Vector Regression (SVR) "
   ]
  },
  {
   "cell_type": "code",
   "execution_count": null,
   "id": "106174df-e3db-4f3d-baae-1b8c4ebfba42",
   "metadata": {},
   "outputs": [],
   "source": [
    "svr_model = SVR(kernel='rbf')\n",
    "svr_model.fit(X_train, y_train)\n",
    "# Use the trained algorithm to predict the target variable of the test set\n",
    "y_pred = svr_model.predict(X_test)\n",
    "\n",
    "# Evaluate the performance of the model using mean squared error\n",
    "mse = mean_squared_error(y_test, y_pred)\n",
    "PCC = round(np.corrcoef(y_test, y_pred)[0,1],2)\n",
    "print(\"Mean squared error: \", mse)\n",
    "print(\"\\nPCC: \", PCC)"
   ]
  },
  {
   "cell_type": "code",
   "execution_count": null,
   "id": "fd627482-9b5f-46e3-8c73-7474e9ea545f",
   "metadata": {},
   "outputs": [],
   "source": []
  },
  {
   "cell_type": "code",
   "execution_count": null,
   "id": "419d7fba-460b-4e3b-8a65-868a7bf7c6e7",
   "metadata": {},
   "outputs": [],
   "source": []
  },
  {
   "cell_type": "code",
   "execution_count": null,
   "id": "9f8d85cb-c1c9-4603-ba23-020d90cb800c",
   "metadata": {},
   "outputs": [],
   "source": [
    "L = df['region2kb'].apply(lambda x: [x[i:i+window_size] for i in range(0, len(x)-7, non_overlap)])\n"
   ]
  },
  {
   "cell_type": "code",
   "execution_count": null,
   "id": "94127215-3c36-4f30-aa8e-2026d8be03be",
   "metadata": {},
   "outputs": [],
   "source": []
  },
  {
   "cell_type": "code",
   "execution_count": null,
   "id": "63fc6c5b-6997-4d0d-b0cd-393cff6e88a4",
   "metadata": {},
   "outputs": [],
   "source": [
    "start_time = time.time() # ***** Start timer *****\n",
    "end_time = time.time() # ***** End timer *****\n",
    "\n",
    "execution_time = round(end_time - start_time, 4)\n",
    "execution_time"
   ]
  },
  {
   "cell_type": "code",
   "execution_count": null,
   "id": "179fbfaa-931b-4caa-847e-4dd53d7030ac",
   "metadata": {},
   "outputs": [],
   "source": []
  }
 ],
 "metadata": {
  "kernelspec": {
   "display_name": "Python 3 (ipykernel)",
   "language": "python",
   "name": "python3"
  },
  "language_info": {
   "codemirror_mode": {
    "name": "ipython",
    "version": 3
   },
   "file_extension": ".py",
   "mimetype": "text/x-python",
   "name": "python",
   "nbconvert_exporter": "python",
   "pygments_lexer": "ipython3",
   "version": "3.9.12"
  }
 },
 "nbformat": 4,
 "nbformat_minor": 5
}
